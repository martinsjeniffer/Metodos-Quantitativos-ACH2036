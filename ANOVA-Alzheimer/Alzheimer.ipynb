{
  "nbformat": 4,
  "nbformat_minor": 0,
  "metadata": {
    "colab": {
      "name": "Alzheimer.ipynb",
      "provenance": [],
      "collapsed_sections": [
        "zQBAllrll1yV",
        "bjYdgPB6l_kZ",
        "9lO1itkyb2yY",
        "a_0NBklcb9uA",
        "A-5-GqQEcPDW",
        "17L2OWzrcHNP"
      ]
    },
    "kernelspec": {
      "name": "ir",
      "display_name": "R"
    },
    "language_info": {
      "name": "R"
    }
  },
  "cells": [
    {
      "cell_type": "markdown",
      "metadata": {
        "id": "zQBAllrll1yV"
      },
      "source": [
        "#Instalação de Pacotes"
      ]
    },
    {
      "cell_type": "code",
      "metadata": {
        "colab": {
          "base_uri": "https://localhost:8080/"
        },
        "id": "W26G6eVdg4e5",
        "outputId": "d61c87cb-68aa-41c3-e944-58917a500d1e"
      },
      "source": [
        "install.packages(\"dplyr\")\n",
        "install.packages('plyr')\n",
        "install.packages('car')\n",
        "#install.packages(\"corrplot\")\n",
        "#install.packages(\"caret\")\n",
        "#install.packages(\"caretEnsemble\")\n",
        "install.packages(\"ggplot2\")\n",
        "#install.packages(\"randomForest\")\n",
        "#install.packages(\"xgboost\")"
      ],
      "execution_count": null,
      "outputs": [
        {
          "output_type": "stream",
          "name": "stderr",
          "text": [
            "Installing package into ‘/usr/local/lib/R/site-library’\n",
            "(as ‘lib’ is unspecified)\n",
            "\n",
            "Installing package into ‘/usr/local/lib/R/site-library’\n",
            "(as ‘lib’ is unspecified)\n",
            "\n",
            "Installing package into ‘/usr/local/lib/R/site-library’\n",
            "(as ‘lib’ is unspecified)\n",
            "\n",
            "also installing the dependencies ‘matrixStats’, ‘RcppArmadillo’, ‘numDeriv’, ‘SparseM’, ‘MatrixModels’, ‘conquer’, ‘sp’, ‘openxlsx’, ‘minqa’, ‘nloptr’, ‘RcppEigen’, ‘carData’, ‘abind’, ‘pbkrtest’, ‘quantreg’, ‘maptools’, ‘rio’, ‘lme4’\n",
            "\n",
            "\n",
            "Installing package into ‘/usr/local/lib/R/site-library’\n",
            "(as ‘lib’ is unspecified)\n",
            "\n"
          ]
        }
      ]
    },
    {
      "cell_type": "code",
      "metadata": {
        "colab": {
          "base_uri": "https://localhost:8080/"
        },
        "id": "jrIqZBsOlyL9",
        "outputId": "fe44d6f1-5ff9-44f8-9aa9-241e430028ff"
      },
      "source": [
        "library(dplyr)\n",
        "library(plyr)\n",
        "#library(car)\n",
        "#library(corrplot)\n",
        "#library(caret)\n",
        "#library(caretEnsemble)\n",
        "library(ggplot2)\n",
        "#library(randomForest)\n",
        "#library(xgboost)"
      ],
      "execution_count": null,
      "outputs": [
        {
          "output_type": "stream",
          "name": "stderr",
          "text": [
            "\n",
            "Attaching package: ‘dplyr’\n",
            "\n",
            "\n",
            "The following objects are masked from ‘package:stats’:\n",
            "\n",
            "    filter, lag\n",
            "\n",
            "\n",
            "The following objects are masked from ‘package:base’:\n",
            "\n",
            "    intersect, setdiff, setequal, union\n",
            "\n",
            "\n",
            "------------------------------------------------------------------------------\n",
            "\n",
            "You have loaded plyr after dplyr - this is likely to cause problems.\n",
            "If you need functions from both plyr and dplyr, please load plyr first, then dplyr:\n",
            "library(plyr); library(dplyr)\n",
            "\n",
            "------------------------------------------------------------------------------\n",
            "\n",
            "\n",
            "Attaching package: ‘plyr’\n",
            "\n",
            "\n",
            "The following objects are masked from ‘package:dplyr’:\n",
            "\n",
            "    arrange, count, desc, failwith, id, mutate, rename, summarise,\n",
            "    summarize\n",
            "\n",
            "\n"
          ]
        }
      ]
    },
    {
      "cell_type": "markdown",
      "metadata": {
        "id": "bjYdgPB6l_kZ"
      },
      "source": [
        "#Inserção dos dados "
      ]
    },
    {
      "cell_type": "code",
      "metadata": {
        "colab": {
          "base_uri": "https://localhost:8080/"
        },
        "id": "0lKtPD7fl-6_",
        "outputId": "3da4930e-8892-4277-fc6f-bb7dedbc0fa4"
      },
      "source": [
        "df <- read.csv('oasis_longitudinal.csv')\n",
        "head(df)\n",
        "#df"
      ],
      "execution_count": null,
      "outputs": [
        {
          "output_type": "display_data",
          "data": {
            "text/plain": [
              "  Subject.ID MRI.ID        Group       Visit MR.Delay M.F Hand Age EDUC SES\n",
              "1 OAS2_0001  OAS2_0001_MR1 Nondemented 1        0     M   R    87  14    2 \n",
              "2 OAS2_0001  OAS2_0001_MR2 Nondemented 2      457     M   R    88  14    2 \n",
              "3 OAS2_0002  OAS2_0002_MR1 Demented    1        0     M   R    75  12   NA \n",
              "4 OAS2_0002  OAS2_0002_MR2 Demented    2      560     M   R    76  12   NA \n",
              "5 OAS2_0002  OAS2_0002_MR3 Demented    3     1895     M   R    80  12   NA \n",
              "6 OAS2_0004  OAS2_0004_MR1 Nondemented 1        0     F   R    88  18    3 \n",
              "  MMSE CDR eTIV nWBV  ASF  \n",
              "1 27   0.0 1987 0.696 0.883\n",
              "2 30   0.0 2004 0.681 0.876\n",
              "3 23   0.5 1678 0.736 1.046\n",
              "4 28   0.5 1738 0.713 1.010\n",
              "5 22   0.5 1698 0.701 1.034\n",
              "6 28   0.0 1215 0.710 1.444"
            ],
            "text/latex": "A data.frame: 6 × 15\n\\begin{tabular}{r|lllllllllllllll}\n  & Subject.ID & MRI.ID & Group & Visit & MR.Delay & M.F & Hand & Age & EDUC & SES & MMSE & CDR & eTIV & nWBV & ASF\\\\\n  & <chr> & <chr> & <chr> & <int> & <int> & <chr> & <chr> & <int> & <int> & <int> & <int> & <dbl> & <int> & <dbl> & <dbl>\\\\\n\\hline\n\t1 & OAS2\\_0001 & OAS2\\_0001\\_MR1 & Nondemented & 1 &    0 & M & R & 87 & 14 &  2 & 27 & 0.0 & 1987 & 0.696 & 0.883\\\\\n\t2 & OAS2\\_0001 & OAS2\\_0001\\_MR2 & Nondemented & 2 &  457 & M & R & 88 & 14 &  2 & 30 & 0.0 & 2004 & 0.681 & 0.876\\\\\n\t3 & OAS2\\_0002 & OAS2\\_0002\\_MR1 & Demented    & 1 &    0 & M & R & 75 & 12 & NA & 23 & 0.5 & 1678 & 0.736 & 1.046\\\\\n\t4 & OAS2\\_0002 & OAS2\\_0002\\_MR2 & Demented    & 2 &  560 & M & R & 76 & 12 & NA & 28 & 0.5 & 1738 & 0.713 & 1.010\\\\\n\t5 & OAS2\\_0002 & OAS2\\_0002\\_MR3 & Demented    & 3 & 1895 & M & R & 80 & 12 & NA & 22 & 0.5 & 1698 & 0.701 & 1.034\\\\\n\t6 & OAS2\\_0004 & OAS2\\_0004\\_MR1 & Nondemented & 1 &    0 & F & R & 88 & 18 &  3 & 28 & 0.0 & 1215 & 0.710 & 1.444\\\\\n\\end{tabular}\n",
            "text/markdown": "\nA data.frame: 6 × 15\n\n| <!--/--> | Subject.ID &lt;chr&gt; | MRI.ID &lt;chr&gt; | Group &lt;chr&gt; | Visit &lt;int&gt; | MR.Delay &lt;int&gt; | M.F &lt;chr&gt; | Hand &lt;chr&gt; | Age &lt;int&gt; | EDUC &lt;int&gt; | SES &lt;int&gt; | MMSE &lt;int&gt; | CDR &lt;dbl&gt; | eTIV &lt;int&gt; | nWBV &lt;dbl&gt; | ASF &lt;dbl&gt; |\n|---|---|---|---|---|---|---|---|---|---|---|---|---|---|---|---|\n| 1 | OAS2_0001 | OAS2_0001_MR1 | Nondemented | 1 |    0 | M | R | 87 | 14 |  2 | 27 | 0.0 | 1987 | 0.696 | 0.883 |\n| 2 | OAS2_0001 | OAS2_0001_MR2 | Nondemented | 2 |  457 | M | R | 88 | 14 |  2 | 30 | 0.0 | 2004 | 0.681 | 0.876 |\n| 3 | OAS2_0002 | OAS2_0002_MR1 | Demented    | 1 |    0 | M | R | 75 | 12 | NA | 23 | 0.5 | 1678 | 0.736 | 1.046 |\n| 4 | OAS2_0002 | OAS2_0002_MR2 | Demented    | 2 |  560 | M | R | 76 | 12 | NA | 28 | 0.5 | 1738 | 0.713 | 1.010 |\n| 5 | OAS2_0002 | OAS2_0002_MR3 | Demented    | 3 | 1895 | M | R | 80 | 12 | NA | 22 | 0.5 | 1698 | 0.701 | 1.034 |\n| 6 | OAS2_0004 | OAS2_0004_MR1 | Nondemented | 1 |    0 | F | R | 88 | 18 |  3 | 28 | 0.0 | 1215 | 0.710 | 1.444 |\n\n",
            "text/html": [
              "<table class=\"dataframe\">\n",
              "<caption>A data.frame: 6 × 15</caption>\n",
              "<thead>\n",
              "\t<tr><th></th><th scope=col>Subject.ID</th><th scope=col>MRI.ID</th><th scope=col>Group</th><th scope=col>Visit</th><th scope=col>MR.Delay</th><th scope=col>M.F</th><th scope=col>Hand</th><th scope=col>Age</th><th scope=col>EDUC</th><th scope=col>SES</th><th scope=col>MMSE</th><th scope=col>CDR</th><th scope=col>eTIV</th><th scope=col>nWBV</th><th scope=col>ASF</th></tr>\n",
              "\t<tr><th></th><th scope=col>&lt;chr&gt;</th><th scope=col>&lt;chr&gt;</th><th scope=col>&lt;chr&gt;</th><th scope=col>&lt;int&gt;</th><th scope=col>&lt;int&gt;</th><th scope=col>&lt;chr&gt;</th><th scope=col>&lt;chr&gt;</th><th scope=col>&lt;int&gt;</th><th scope=col>&lt;int&gt;</th><th scope=col>&lt;int&gt;</th><th scope=col>&lt;int&gt;</th><th scope=col>&lt;dbl&gt;</th><th scope=col>&lt;int&gt;</th><th scope=col>&lt;dbl&gt;</th><th scope=col>&lt;dbl&gt;</th></tr>\n",
              "</thead>\n",
              "<tbody>\n",
              "\t<tr><th scope=row>1</th><td>OAS2_0001</td><td>OAS2_0001_MR1</td><td>Nondemented</td><td>1</td><td>   0</td><td>M</td><td>R</td><td>87</td><td>14</td><td> 2</td><td>27</td><td>0.0</td><td>1987</td><td>0.696</td><td>0.883</td></tr>\n",
              "\t<tr><th scope=row>2</th><td>OAS2_0001</td><td>OAS2_0001_MR2</td><td>Nondemented</td><td>2</td><td> 457</td><td>M</td><td>R</td><td>88</td><td>14</td><td> 2</td><td>30</td><td>0.0</td><td>2004</td><td>0.681</td><td>0.876</td></tr>\n",
              "\t<tr><th scope=row>3</th><td>OAS2_0002</td><td>OAS2_0002_MR1</td><td>Demented   </td><td>1</td><td>   0</td><td>M</td><td>R</td><td>75</td><td>12</td><td>NA</td><td>23</td><td>0.5</td><td>1678</td><td>0.736</td><td>1.046</td></tr>\n",
              "\t<tr><th scope=row>4</th><td>OAS2_0002</td><td>OAS2_0002_MR2</td><td>Demented   </td><td>2</td><td> 560</td><td>M</td><td>R</td><td>76</td><td>12</td><td>NA</td><td>28</td><td>0.5</td><td>1738</td><td>0.713</td><td>1.010</td></tr>\n",
              "\t<tr><th scope=row>5</th><td>OAS2_0002</td><td>OAS2_0002_MR3</td><td>Demented   </td><td>3</td><td>1895</td><td>M</td><td>R</td><td>80</td><td>12</td><td>NA</td><td>22</td><td>0.5</td><td>1698</td><td>0.701</td><td>1.034</td></tr>\n",
              "\t<tr><th scope=row>6</th><td>OAS2_0004</td><td>OAS2_0004_MR1</td><td>Nondemented</td><td>1</td><td>   0</td><td>F</td><td>R</td><td>88</td><td>18</td><td> 3</td><td>28</td><td>0.0</td><td>1215</td><td>0.710</td><td>1.444</td></tr>\n",
              "</tbody>\n",
              "</table>\n"
            ]
          },
          "metadata": {}
        }
      ]
    },
    {
      "cell_type": "code",
      "metadata": {
        "colab": {
          "base_uri": "https://localhost:8080/"
        },
        "id": "qfLwadH3q2lu",
        "outputId": "0966a799-1e38-4e9a-bb34-7e7cee312f8a"
      },
      "source": [
        "dim(df)\n",
        "print('/n')\n",
        "str(df)\n",
        "print('/n')\n",
        "summary(df)\n",
        "\n",
        "#Drop hand\n",
        "table(df$Hand)\n",
        "df$Hand<-NULL\n",
        "\n",
        "#Drop Ids\n",
        "subject_id<-df$Subject.ID\n",
        "MRI_id<-df$MRI.ID\n",
        "\n",
        "df$Subject.ID<-NULL\n",
        "df$MRI.ID<-NULL"
      ],
      "execution_count": null,
      "outputs": [
        {
          "output_type": "display_data",
          "data": {
            "text/plain": [
              "[1] 373  15"
            ],
            "text/latex": "\\begin{enumerate*}\n\\item 373\n\\item 15\n\\end{enumerate*}\n",
            "text/markdown": "1. 373\n2. 15\n\n\n",
            "text/html": [
              "<style>\n",
              ".list-inline {list-style: none; margin:0; padding: 0}\n",
              ".list-inline>li {display: inline-block}\n",
              ".list-inline>li:not(:last-child)::after {content: \"\\00b7\"; padding: 0 .5ex}\n",
              "</style>\n",
              "<ol class=list-inline><li>373</li><li>15</li></ol>\n"
            ]
          },
          "metadata": {}
        },
        {
          "output_type": "stream",
          "name": "stdout",
          "text": [
            "[1] \"/n\"\n",
            "'data.frame':\t373 obs. of  15 variables:\n",
            " $ Subject.ID: chr  \"OAS2_0001\" \"OAS2_0001\" \"OAS2_0002\" \"OAS2_0002\" ...\n",
            " $ MRI.ID    : chr  \"OAS2_0001_MR1\" \"OAS2_0001_MR2\" \"OAS2_0002_MR1\" \"OAS2_0002_MR2\" ...\n",
            " $ Group     : chr  \"Nondemented\" \"Nondemented\" \"Demented\" \"Demented\" ...\n",
            " $ Visit     : int  1 2 1 2 3 1 2 1 2 3 ...\n",
            " $ MR.Delay  : int  0 457 0 560 1895 0 538 0 1010 1603 ...\n",
            " $ M.F       : chr  \"M\" \"M\" \"M\" \"M\" ...\n",
            " $ Hand      : chr  \"R\" \"R\" \"R\" \"R\" ...\n",
            " $ Age       : int  87 88 75 76 80 88 90 80 83 85 ...\n",
            " $ EDUC      : int  14 14 12 12 12 18 18 12 12 12 ...\n",
            " $ SES       : int  2 2 NA NA NA 3 3 4 4 4 ...\n",
            " $ MMSE      : int  27 30 23 28 22 28 27 28 29 30 ...\n",
            " $ CDR       : num  0 0 0.5 0.5 0.5 0 0 0 0.5 0 ...\n",
            " $ eTIV      : int  1987 2004 1678 1738 1698 1215 1200 1689 1701 1699 ...\n",
            " $ nWBV      : num  0.696 0.681 0.736 0.713 0.701 0.71 0.718 0.712 0.711 0.705 ...\n",
            " $ ASF       : num  0.883 0.876 1.046 1.01 1.034 ...\n",
            "[1] \"/n\"\n"
          ]
        },
        {
          "output_type": "display_data",
          "data": {
            "text/plain": [
              "  Subject.ID           MRI.ID             Group               Visit      \n",
              " Length:373         Length:373         Length:373         Min.   :1.000  \n",
              " Class :character   Class :character   Class :character   1st Qu.:1.000  \n",
              " Mode  :character   Mode  :character   Mode  :character   Median :2.000  \n",
              "                                                          Mean   :1.882  \n",
              "                                                          3rd Qu.:2.000  \n",
              "                                                          Max.   :5.000  \n",
              "                                                                         \n",
              "    MR.Delay          M.F                Hand                Age       \n",
              " Min.   :   0.0   Length:373         Length:373         Min.   :60.00  \n",
              " 1st Qu.:   0.0   Class :character   Class :character   1st Qu.:71.00  \n",
              " Median : 552.0   Mode  :character   Mode  :character   Median :77.00  \n",
              " Mean   : 595.1                                         Mean   :77.01  \n",
              " 3rd Qu.: 873.0                                         3rd Qu.:82.00  \n",
              " Max.   :2639.0                                         Max.   :98.00  \n",
              "                                                                       \n",
              "      EDUC           SES            MMSE            CDR              eTIV     \n",
              " Min.   : 6.0   Min.   :1.00   Min.   : 4.00   Min.   :0.0000   Min.   :1106  \n",
              " 1st Qu.:12.0   1st Qu.:2.00   1st Qu.:27.00   1st Qu.:0.0000   1st Qu.:1357  \n",
              " Median :15.0   Median :2.00   Median :29.00   Median :0.0000   Median :1470  \n",
              " Mean   :14.6   Mean   :2.46   Mean   :27.34   Mean   :0.2909   Mean   :1488  \n",
              " 3rd Qu.:16.0   3rd Qu.:3.00   3rd Qu.:30.00   3rd Qu.:0.5000   3rd Qu.:1597  \n",
              " Max.   :23.0   Max.   :5.00   Max.   :30.00   Max.   :2.0000   Max.   :2004  \n",
              "                NA's   :19     NA's   :2                                      \n",
              "      nWBV             ASF       \n",
              " Min.   :0.6440   Min.   :0.876  \n",
              " 1st Qu.:0.7000   1st Qu.:1.099  \n",
              " Median :0.7290   Median :1.194  \n",
              " Mean   :0.7296   Mean   :1.195  \n",
              " 3rd Qu.:0.7560   3rd Qu.:1.293  \n",
              " Max.   :0.8370   Max.   :1.587  \n",
              "                                 "
            ]
          },
          "metadata": {}
        },
        {
          "output_type": "display_data",
          "data": {
            "text/plain": [
              "\n",
              "  R \n",
              "373 "
            ]
          },
          "metadata": {}
        }
      ]
    },
    {
      "cell_type": "code",
      "metadata": {
        "colab": {
          "base_uri": "https://localhost:8080/"
        },
        "id": "PBxJSnQS4y2Q",
        "outputId": "569457cd-095c-4907-b4ba-e9020289719d"
      },
      "source": [
        "sort(apply(df, 2, function(x){sum(is.na(x))}), decreasing = TRUE)\n",
        "\n",
        "table(df$SES)"
      ],
      "execution_count": null,
      "outputs": [
        {
          "output_type": "display_data",
          "data": {
            "text/plain": [
              "     SES     MMSE    Group    Visit MR.Delay      M.F      Age     EDUC \n",
              "      19        2        0        0        0        0        0        0 \n",
              "     CDR     eTIV     nWBV      ASF \n",
              "       0        0        0        0 "
            ],
            "text/latex": "\\begin{description*}\n\\item[SES] 19\n\\item[MMSE] 2\n\\item[Group] 0\n\\item[Visit] 0\n\\item[MR.Delay] 0\n\\item[M.F] 0\n\\item[Age] 0\n\\item[EDUC] 0\n\\item[CDR] 0\n\\item[eTIV] 0\n\\item[nWBV] 0\n\\item[ASF] 0\n\\end{description*}\n",
            "text/markdown": "SES\n:   19MMSE\n:   2Group\n:   0Visit\n:   0MR.Delay\n:   0M.F\n:   0Age\n:   0EDUC\n:   0CDR\n:   0eTIV\n:   0nWBV\n:   0ASF\n:   0\n\n",
            "text/html": [
              "<style>\n",
              ".dl-inline {width: auto; margin:0; padding: 0}\n",
              ".dl-inline>dt, .dl-inline>dd {float: none; width: auto; display: inline-block}\n",
              ".dl-inline>dt::after {content: \":\\0020\"; padding-right: .5ex}\n",
              ".dl-inline>dt:not(:first-of-type) {padding-left: .5ex}\n",
              "</style><dl class=dl-inline><dt>SES</dt><dd>19</dd><dt>MMSE</dt><dd>2</dd><dt>Group</dt><dd>0</dd><dt>Visit</dt><dd>0</dd><dt>MR.Delay</dt><dd>0</dd><dt>M.F</dt><dd>0</dd><dt>Age</dt><dd>0</dd><dt>EDUC</dt><dd>0</dd><dt>CDR</dt><dd>0</dd><dt>eTIV</dt><dd>0</dd><dt>nWBV</dt><dd>0</dd><dt>ASF</dt><dd>0</dd></dl>\n"
            ]
          },
          "metadata": {}
        },
        {
          "output_type": "display_data",
          "data": {
            "text/plain": [
              "\n",
              "  1   2   3   4   5 \n",
              " 88 103  82  74   7 "
            ]
          },
          "metadata": {}
        }
      ]
    },
    {
      "cell_type": "code",
      "metadata": {
        "colab": {
          "base_uri": "https://localhost:8080/"
        },
        "id": "3Emf63iy6Gzn",
        "outputId": "cb58aae5-c551-4a10-af5f-4af828e0d225"
      },
      "source": [
        "df <- df[order(df$Group),]\n",
        "head(df)\n",
        "#df %>% group_by(MMSE) %>% arrange(Group) \n",
        "count(df, 'Group')\n",
        "\n",
        "df1 <- df[order(df$Group),][c(0:37),c(1,11,12)]\n",
        "#df1\n",
        "df2 <- df[order(df$Group),][c(38:183),c(1,11,12)]\n",
        "#df2\n",
        "df3 <- df[order(df$Group),][c(184:373),c(1,11,12)]\n",
        "#df3"
      ],
      "execution_count": null,
      "outputs": [
        {
          "output_type": "display_data",
          "data": {
            "text/plain": [
              "   Group     Visit MR.Delay M.F Age EDUC SES MMSE CDR eTIV nWBV  ASF  \n",
              "34 Converted 1        0     F   87  14   1   30   0.0 1406 0.715 1.248\n",
              "35 Converted 3      489     F   88  14   1   29   0.0 1398 0.713 1.255\n",
              "36 Converted 4     1933     F   92  14   1   27   0.5 1423 0.696 1.234\n",
              "37 Converted 1        0     M   80  20   1   29   0.0 1587 0.693 1.106\n",
              "38 Converted 2      756     M   82  20   1   28   0.5 1606 0.677 1.093\n",
              "39 Converted 3     1563     M   84  20   1   26   0.5 1597 0.666 1.099"
            ],
            "text/latex": "A data.frame: 6 × 12\n\\begin{tabular}{r|llllllllllll}\n  & Group & Visit & MR.Delay & M.F & Age & EDUC & SES & MMSE & CDR & eTIV & nWBV & ASF\\\\\n  & <chr> & <int> & <int> & <chr> & <int> & <int> & <int> & <int> & <dbl> & <int> & <dbl> & <dbl>\\\\\n\\hline\n\t34 & Converted & 1 &    0 & F & 87 & 14 & 1 & 30 & 0.0 & 1406 & 0.715 & 1.248\\\\\n\t35 & Converted & 3 &  489 & F & 88 & 14 & 1 & 29 & 0.0 & 1398 & 0.713 & 1.255\\\\\n\t36 & Converted & 4 & 1933 & F & 92 & 14 & 1 & 27 & 0.5 & 1423 & 0.696 & 1.234\\\\\n\t37 & Converted & 1 &    0 & M & 80 & 20 & 1 & 29 & 0.0 & 1587 & 0.693 & 1.106\\\\\n\t38 & Converted & 2 &  756 & M & 82 & 20 & 1 & 28 & 0.5 & 1606 & 0.677 & 1.093\\\\\n\t39 & Converted & 3 & 1563 & M & 84 & 20 & 1 & 26 & 0.5 & 1597 & 0.666 & 1.099\\\\\n\\end{tabular}\n",
            "text/markdown": "\nA data.frame: 6 × 12\n\n| <!--/--> | Group &lt;chr&gt; | Visit &lt;int&gt; | MR.Delay &lt;int&gt; | M.F &lt;chr&gt; | Age &lt;int&gt; | EDUC &lt;int&gt; | SES &lt;int&gt; | MMSE &lt;int&gt; | CDR &lt;dbl&gt; | eTIV &lt;int&gt; | nWBV &lt;dbl&gt; | ASF &lt;dbl&gt; |\n|---|---|---|---|---|---|---|---|---|---|---|---|---|\n| 34 | Converted | 1 |    0 | F | 87 | 14 | 1 | 30 | 0.0 | 1406 | 0.715 | 1.248 |\n| 35 | Converted | 3 |  489 | F | 88 | 14 | 1 | 29 | 0.0 | 1398 | 0.713 | 1.255 |\n| 36 | Converted | 4 | 1933 | F | 92 | 14 | 1 | 27 | 0.5 | 1423 | 0.696 | 1.234 |\n| 37 | Converted | 1 |    0 | M | 80 | 20 | 1 | 29 | 0.0 | 1587 | 0.693 | 1.106 |\n| 38 | Converted | 2 |  756 | M | 82 | 20 | 1 | 28 | 0.5 | 1606 | 0.677 | 1.093 |\n| 39 | Converted | 3 | 1563 | M | 84 | 20 | 1 | 26 | 0.5 | 1597 | 0.666 | 1.099 |\n\n",
            "text/html": [
              "<table class=\"dataframe\">\n",
              "<caption>A data.frame: 6 × 12</caption>\n",
              "<thead>\n",
              "\t<tr><th></th><th scope=col>Group</th><th scope=col>Visit</th><th scope=col>MR.Delay</th><th scope=col>M.F</th><th scope=col>Age</th><th scope=col>EDUC</th><th scope=col>SES</th><th scope=col>MMSE</th><th scope=col>CDR</th><th scope=col>eTIV</th><th scope=col>nWBV</th><th scope=col>ASF</th></tr>\n",
              "\t<tr><th></th><th scope=col>&lt;chr&gt;</th><th scope=col>&lt;int&gt;</th><th scope=col>&lt;int&gt;</th><th scope=col>&lt;chr&gt;</th><th scope=col>&lt;int&gt;</th><th scope=col>&lt;int&gt;</th><th scope=col>&lt;int&gt;</th><th scope=col>&lt;int&gt;</th><th scope=col>&lt;dbl&gt;</th><th scope=col>&lt;int&gt;</th><th scope=col>&lt;dbl&gt;</th><th scope=col>&lt;dbl&gt;</th></tr>\n",
              "</thead>\n",
              "<tbody>\n",
              "\t<tr><th scope=row>34</th><td>Converted</td><td>1</td><td>   0</td><td>F</td><td>87</td><td>14</td><td>1</td><td>30</td><td>0.0</td><td>1406</td><td>0.715</td><td>1.248</td></tr>\n",
              "\t<tr><th scope=row>35</th><td>Converted</td><td>3</td><td> 489</td><td>F</td><td>88</td><td>14</td><td>1</td><td>29</td><td>0.0</td><td>1398</td><td>0.713</td><td>1.255</td></tr>\n",
              "\t<tr><th scope=row>36</th><td>Converted</td><td>4</td><td>1933</td><td>F</td><td>92</td><td>14</td><td>1</td><td>27</td><td>0.5</td><td>1423</td><td>0.696</td><td>1.234</td></tr>\n",
              "\t<tr><th scope=row>37</th><td>Converted</td><td>1</td><td>   0</td><td>M</td><td>80</td><td>20</td><td>1</td><td>29</td><td>0.0</td><td>1587</td><td>0.693</td><td>1.106</td></tr>\n",
              "\t<tr><th scope=row>38</th><td>Converted</td><td>2</td><td> 756</td><td>M</td><td>82</td><td>20</td><td>1</td><td>28</td><td>0.5</td><td>1606</td><td>0.677</td><td>1.093</td></tr>\n",
              "\t<tr><th scope=row>39</th><td>Converted</td><td>3</td><td>1563</td><td>M</td><td>84</td><td>20</td><td>1</td><td>26</td><td>0.5</td><td>1597</td><td>0.666</td><td>1.099</td></tr>\n",
              "</tbody>\n",
              "</table>\n"
            ]
          },
          "metadata": {}
        },
        {
          "output_type": "display_data",
          "data": {
            "text/plain": [
              "  Group       freq\n",
              "1 Converted    37 \n",
              "2 Demented    146 \n",
              "3 Nondemented 190 "
            ],
            "text/latex": "A data.frame: 3 × 2\n\\begin{tabular}{ll}\n Group & freq\\\\\n <chr> & <int>\\\\\n\\hline\n\t Converted   &  37\\\\\n\t Demented    & 146\\\\\n\t Nondemented & 190\\\\\n\\end{tabular}\n",
            "text/markdown": "\nA data.frame: 3 × 2\n\n| Group &lt;chr&gt; | freq &lt;int&gt; |\n|---|---|\n| Converted   |  37 |\n| Demented    | 146 |\n| Nondemented | 190 |\n\n",
            "text/html": [
              "<table class=\"dataframe\">\n",
              "<caption>A data.frame: 3 × 2</caption>\n",
              "<thead>\n",
              "\t<tr><th scope=col>Group</th><th scope=col>freq</th></tr>\n",
              "\t<tr><th scope=col>&lt;chr&gt;</th><th scope=col>&lt;int&gt;</th></tr>\n",
              "</thead>\n",
              "<tbody>\n",
              "\t<tr><td>Converted  </td><td> 37</td></tr>\n",
              "\t<tr><td>Demented   </td><td>146</td></tr>\n",
              "\t<tr><td>Nondemented</td><td>190</td></tr>\n",
              "</tbody>\n",
              "</table>\n"
            ]
          },
          "metadata": {}
        }
      ]
    },
    {
      "cell_type": "markdown",
      "metadata": {
        "id": "9lO1itkyb2yY"
      },
      "source": [
        "#Teste Shapiro para a Variável ASF"
      ]
    },
    {
      "cell_type": "code",
      "metadata": {
        "colab": {
          "base_uri": "https://localhost:8080/"
        },
        "id": "_T7NbUYIwwBh",
        "outputId": "20d7e00b-aabe-4759-bc70-ad88952a1dc1"
      },
      "source": [
        "hist(df1$ASF)\n",
        "hist(df2$ASF)\n",
        "hist(df3$ASF)"
      ],
      "execution_count": null,
      "outputs": [
        {
          "output_type": "display_data",
          "data": {
            "image/png": "[encoded data removed]",
            "text/plain": [
              "Plot with title “Histogram of df1$ASF”"
            ]
          },
          "metadata": {
            "image/png": {
              "width": 420,
              "height": 420
            }
          }
        },
        {
          "output_type": "display_data",
          "data": {
            "image/png": "[encoded data removed]",
            "text/plain": [
              "Plot with title “Histogram of df2$ASF”"
            ]
          },
          "metadata": {
            "image/png": {
              "width": 420,
              "height": 420
            }
          }
        },
        {
          "output_type": "display_data",
          "data": {
            "image/png": "[encoded data removed]",
            "text/plain": [
              "Plot with title “Histogram of df3$ASF”"
            ]
          },
          "metadata": {
            "image/png": {
              "width": 420,
              "height": 420
            }
          }
        }
      ]
    },
    {
      "cell_type": "code",
      "metadata": {
        "colab": {
          "base_uri": "https://localhost:8080/"
        },
        "id": "lDJ-wrDYA5PO",
        "outputId": "e05f3d7f-7307-42e4-cead-8242ecdb3d35"
      },
      "source": [
        "shapiro.test(df1$ASF)\n",
        "shapiro.test(df2$ASF)\n",
        "shapiro.test(df3$ASF)"
      ],
      "execution_count": null,
      "outputs": [
        {
          "output_type": "display_data",
          "data": {
            "text/plain": [
              "\n",
              "\tShapiro-Wilk normality test\n",
              "\n",
              "data:  df1$ASF\n",
              "W = 0.94229, p-value = 0.05457\n"
            ]
          },
          "metadata": {}
        },
        {
          "output_type": "display_data",
          "data": {
            "text/plain": [
              "\n",
              "\tShapiro-Wilk normality test\n",
              "\n",
              "data:  df2$ASF\n",
              "W = 0.98454, p-value = 0.1009\n"
            ]
          },
          "metadata": {}
        },
        {
          "output_type": "display_data",
          "data": {
            "text/plain": [
              "\n",
              "\tShapiro-Wilk normality test\n",
              "\n",
              "data:  df3$ASF\n",
              "W = 0.9857, p-value = 0.05095\n"
            ]
          },
          "metadata": {}
        }
      ]
    },
    {
      "cell_type": "markdown",
      "metadata": {
        "id": "a_0NBklcb9uA"
      },
      "source": [
        "#Teste Shapiro para a Variável nWBV"
      ]
    },
    {
      "cell_type": "code",
      "metadata": {
        "colab": {
          "base_uri": "https://localhost:8080/"
        },
        "id": "6DFLdrmMw48-",
        "outputId": "59fa3488-eed3-499a-e128-e96e51d01b7c"
      },
      "source": [
        "hist(df1$nWBV)\n",
        "hist(df2$nWBV)\n",
        "hist(df3$nWBV)"
      ],
      "execution_count": null,
      "outputs": [
        {
          "output_type": "display_data",
          "data": {
            "image/png": "[encoded data removed]",
            "text/plain": [
              "Plot with title “Histogram of df1$nWBV”"
            ]
          },
          "metadata": {
            "image/png": {
              "width": 420,
              "height": 420
            }
          }
        },
        {
          "output_type": "display_data",
          "data": {
            "image/png": "[encoded data removed]",
            "text/plain": [
              "Plot with title “Histogram of df2$nWBV”"
            ]
          },
          "metadata": {
            "image/png": {
              "width": 420,
              "height": 420
            }
          }
        },
        {
          "output_type": "display_data",
          "data": {
            "image/png": "[encoded data removed]",
            "text/plain": [
              "Plot with title “Histogram of df3$nWBV”"
            ]
          },
          "metadata": {
            "image/png": {
              "width": 420,
              "height": 420
            }
          }
        }
      ]
    },
    {
      "cell_type": "code",
      "metadata": {
        "colab": {
          "base_uri": "https://localhost:8080/"
        },
        "id": "-EWDIz3sw5K4",
        "outputId": "bc78390b-89d4-4171-9cab-38495bea61bf"
      },
      "source": [
        "shapiro.test(df1$nWBV)\n",
        "shapiro.test(df2$nWBV)\n",
        "shapiro.test(df3$nWBV)"
      ],
      "execution_count": null,
      "outputs": [
        {
          "output_type": "display_data",
          "data": {
            "text/plain": [
              "\n",
              "\tShapiro-Wilk normality test\n",
              "\n",
              "data:  df1$nWBV\n",
              "W = 0.95976, p-value = 0.1985\n"
            ]
          },
          "metadata": {}
        },
        {
          "output_type": "display_data",
          "data": {
            "text/plain": [
              "\n",
              "\tShapiro-Wilk normality test\n",
              "\n",
              "data:  df2$nWBV\n",
              "W = 0.98686, p-value = 0.1818\n"
            ]
          },
          "metadata": {}
        },
        {
          "output_type": "display_data",
          "data": {
            "text/plain": [
              "\n",
              "\tShapiro-Wilk normality test\n",
              "\n",
              "data:  df3$nWBV\n",
              "W = 0.99489, p-value = 0.7654\n"
            ]
          },
          "metadata": {}
        }
      ]
    },
    {
      "cell_type": "markdown",
      "metadata": {
        "id": "A-5-GqQEcPDW"
      },
      "source": [
        "#BoxPlot teste de Variavel Random"
      ]
    },
    {
      "cell_type": "code",
      "metadata": {
        "colab": {
          "base_uri": "https://localhost:8080/"
        },
        "id": "RqFlyVIP5aN-",
        "outputId": "63854603-4e43-43cf-b12d-2ee73df18885"
      },
      "source": [
        "ggplot(df, aes(Group, EDUC))+\n",
        "  geom_boxplot(col = \"blue\")+\n",
        "  geom_point(stat = \"summary\", fun.y = \"mean\", col = \"red\", size = 4)+\n",
        "  ggtitle(\"Education and Dementia\")+\n",
        "  theme(plot.title = element_text(hjust = .5))\n",
        "\n",
        "#No real difference\n",
        "#ggplot(MRI_data, aes(M.F, EDUC))+\n",
        "#  geom_boxplot(col = \"blue\")+\n",
        "#  ggtitle(\"Years of Education by Sex\")+\n",
        "#  theme(plot.title = element_text(hjust = .5))"
      ],
      "execution_count": null,
      "outputs": [
        {
          "output_type": "stream",
          "name": "stderr",
          "text": [
            "Warning message:\n",
            "“Ignoring unknown parameters: fun.y”\n",
            "No summary function supplied, defaulting to `mean_se()`\n",
            "\n"
          ]
        },
        {
          "output_type": "display_data",
          "data": {
            "image/png": "[encoded data removed]",
            "text/plain": [
              "plot without title"
            ]
          },
          "metadata": {
            "image/png": {
              "width": 420,
              "height": 420
            }
          }
        }
      ]
    },
    {
      "cell_type": "markdown",
      "metadata": {
        "id": "17L2OWzrcHNP"
      },
      "source": [
        "#Anova para nWBV"
      ]
    },
    {
      "cell_type": "code",
      "metadata": {
        "colab": {
          "base_uri": "https://localhost:8080/",
          "height": 248
        },
        "id": "XdwLkSu32u07",
        "outputId": "c31b8cc5-ee74-470f-e64f-4d329e8be3e6"
      },
      "source": [
        "anova_one_way <- aov(nWBV~Group, data = df)\n",
        "summary(anova_one_way)\n",
        "\n",
        "anova(aov(ASF~Group, data = df))"
      ],
      "execution_count": null,
      "outputs": [
        {
          "output_type": "display_data",
          "data": {
            "text/plain": [
              "             Df Sum Sq  Mean Sq F value   Pr(>F)    \n",
              "Group         2 0.0514 0.025678   20.58 3.35e-09 ***\n",
              "Residuals   370 0.4616 0.001248                     \n",
              "---\n",
              "Signif. codes:  0 ‘***’ 0.001 ‘**’ 0.01 ‘*’ 0.05 ‘.’ 0.1 ‘ ’ 1"
            ]
          },
          "metadata": {}
        },
        {
          "output_type": "display_data",
          "data": {
            "text/plain": [
              "          Df  Sum Sq     Mean Sq     F value   Pr(>F)   \n",
              "Group       2 0.01459628 0.007298139 0.3814422 0.6831441\n",
              "Residuals 370 7.07921641 0.019133017        NA        NA"
            ],
            "text/latex": "A anova: 2 × 5\n\\begin{tabular}{r|lllll}\n  & Df & Sum Sq & Mean Sq & F value & Pr(>F)\\\\\n  & <int> & <dbl> & <dbl> & <dbl> & <dbl>\\\\\n\\hline\n\tGroup &   2 & 0.01459628 & 0.007298139 & 0.3814422 & 0.6831441\\\\\n\tResiduals & 370 & 7.07921641 & 0.019133017 &        NA &        NA\\\\\n\\end{tabular}\n",
            "text/markdown": "\nA anova: 2 × 5\n\n| <!--/--> | Df &lt;int&gt; | Sum Sq &lt;dbl&gt; | Mean Sq &lt;dbl&gt; | F value &lt;dbl&gt; | Pr(&gt;F) &lt;dbl&gt; |\n|---|---|---|---|---|---|\n| Group |   2 | 0.01459628 | 0.007298139 | 0.3814422 | 0.6831441 |\n| Residuals | 370 | 7.07921641 | 0.019133017 |        NA |        NA |\n\n",
            "text/html": [
              "<table class=\"dataframe\">\n",
              "<caption>A anova: 2 × 5</caption>\n",
              "<thead>\n",
              "\t<tr><th></th><th scope=col>Df</th><th scope=col>Sum Sq</th><th scope=col>Mean Sq</th><th scope=col>F value</th><th scope=col>Pr(&gt;F)</th></tr>\n",
              "\t<tr><th></th><th scope=col>&lt;int&gt;</th><th scope=col>&lt;dbl&gt;</th><th scope=col>&lt;dbl&gt;</th><th scope=col>&lt;dbl&gt;</th><th scope=col>&lt;dbl&gt;</th></tr>\n",
              "</thead>\n",
              "<tbody>\n",
              "\t<tr><th scope=row>Group</th><td>  2</td><td>0.01459628</td><td>0.007298139</td><td>0.3814422</td><td>0.6831441</td></tr>\n",
              "\t<tr><th scope=row>Residuals</th><td>370</td><td>7.07921641</td><td>0.019133017</td><td>       NA</td><td>       NA</td></tr>\n",
              "</tbody>\n",
              "</table>\n"
            ]
          },
          "metadata": {}
        }
      ]
    }
  ]
}